{
 "cells": [
  {
   "cell_type": "markdown",
   "id": "5c20af5f",
   "metadata": {},
   "source": [
    "### Face Recognition Using OpenCV and Haar Cascade Frontal Face model"
   ]
  },
  {
   "cell_type": "markdown",
   "id": "9343dbe5",
   "metadata": {},
   "source": [
    "The `screen_width` and `screen_height` variables are used to set the resolution of the webcam. The default value is set to 1280x720.\n",
    "\n",
    "The `VideoCapture` function is used to capture video frames from the default webcam. The captured frames are then processed to detect faces using the detectMultiScale function of the Haar Cascade Classifier. The detected faces are then highlighted using a rectangle.\n",
    "\n"
   ]
  },
  {
   "cell_type": "code",
   "execution_count": 10,
   "id": "d704c341",
   "metadata": {},
   "outputs": [
    {
     "name": "stderr",
     "output_type": "stream",
     "text": [
      "[ WARN:0@1229.588] global cap_v4l.cpp:982 open VIDEOIO(V4L2:/dev/video1): can't open camera by index\n",
      "[ERROR:0@1229.588] global obsensor_uvc_stream_channel.cpp:156 getStreamChannelGroup Camera index out of range\n"
     ]
    },
    {
     "data": {
      "text/plain": [
       "-1"
      ]
     },
     "execution_count": 10,
     "metadata": {},
     "output_type": "execute_result"
    }
   ],
   "source": [
    "import cv2\n",
    "\n",
    "# for face detection\n",
    "face_cascade = cv2.CascadeClassifier('haarcascade_frontalface_default.xml')\n",
    "\n",
    "# resolution of the webcam\n",
    "screen_width = 1280       # try 640 if code fails\n",
    "screen_height = 720\n",
    "\n",
    "# default webcam\n",
    "stream = cv2.VideoCapture(1)\n",
    "\n",
    "while True:\n",
    "    # capture frame-by-frame\n",
    "    grabbed, frame = stream.read()\n",
    "    if not grabbed:\n",
    "        break\n",
    "    assert frame is not None and not frame.empty(), \"Empty frame\"\n",
    "    rgb = cv2.cvtColor(frame, cv2.COLOR_BGR2RGB)\n",
    "\n",
    "    # try to detect faces in the webcam\n",
    "    assert face_cascade is not None, \"Cascade classifier not loaded\"\n",
    "    faces = face_cascade.detectMultiScale(rgb, scaleFactor=1.3, minNeighbors=5)\n",
    "\n",
    "    # for each faces found\n",
    "    for x, y, w, h in faces:\n",
    "        # Draw a rectangle around the face\n",
    "        color = (0, 255, 255) # in BGR\n",
    "        stroke = 5\n",
    "        cv2.rectangle(frame, (x, y), (x + w, y + h), color, stroke)\n",
    "\n",
    "    # show the frame\n",
    "    cv2.imshow(\"Image\", frame)\n",
    "    key = cv2.waitKey(1) & 0xFF\n",
    "    if key == ord(\"r\"):    # Press r to break out\n",
    "        break                  # of the loop\n",
    "\n",
    "# cleanup\n",
    "stream.release()\n",
    "cv2.destroyAllWindows()\n",
    "cv2.waitKey(1)\n"
   ]
  },
  {
   "cell_type": "code",
   "execution_count": null,
   "id": "d67a669a",
   "metadata": {},
   "outputs": [],
   "source": []
  },
  {
   "cell_type": "markdown",
   "id": "30844993",
   "metadata": {},
   "source": [
    "### Detect images in a folder"
   ]
  },
  {
   "cell_type": "markdown",
   "id": "27cfa1e2",
   "metadata": {},
   "source": [
    "The code uses `os.listdir()` to loop over all the files in the input folder containing face images. For each image file, the code reads the image using `cv2.imread()`, converts it to grayscale, and uses `detectMultiScale()` to detect faces in the image.\n",
    "\n",
    "If a face is detected, the code draws a rectangle around it on the original color image using `cv2.rectangle()`. Finally, the image with the detected faces is written to the output folder using `cv2.imwrite()`.\n",
    "\n",
    "**Note** Images are according to this code are of the following format "
   ]
  },
  {
   "cell_type": "code",
   "execution_count": 30,
   "id": "e74aaf7a",
   "metadata": {},
   "outputs": [
    {
     "ename": "error",
     "evalue": "OpenCV(4.7.0) /io/opencv/modules/highgui/src/window.cpp:971: error: (-215:Assertion failed) size.width>0 && size.height>0 in function 'imshow'\n",
     "output_type": "error",
     "traceback": [
      "\u001b[0;31m---------------------------------------------------------------------------\u001b[0m",
      "\u001b[0;31merror\u001b[0m                                     Traceback (most recent call last)",
      "Input \u001b[0;32mIn [30]\u001b[0m, in \u001b[0;36m<cell line: 3>\u001b[0;34m()\u001b[0m\n\u001b[1;32m      4\u001b[0m cv_img \u001b[38;5;241m=\u001b[39m cv2\u001b[38;5;241m.\u001b[39mimread(img)\n\u001b[1;32m      6\u001b[0m \u001b[38;5;66;03m# display the image\u001b[39;00m\n\u001b[0;32m----> 7\u001b[0m \u001b[43mcv2\u001b[49m\u001b[38;5;241;43m.\u001b[39;49m\u001b[43mimshow\u001b[49m\u001b[43m(\u001b[49m\u001b[38;5;124;43m'\u001b[39;49m\u001b[38;5;124;43m'\u001b[39;49m\u001b[43m,\u001b[49m\u001b[43m \u001b[49m\u001b[43mcv_img\u001b[49m\u001b[43m)\u001b[49m\n",
      "\u001b[0;31merror\u001b[0m: OpenCV(4.7.0) /io/opencv/modules/highgui/src/window.cpp:971: error: (-215:Assertion failed) size.width>0 && size.height>0 in function 'imshow'\n"
     ]
    }
   ],
   "source": [
    "import cv2\n",
    "import glob\n",
    "for img in glob.glob(\"Angelina Jolie\"):\n",
    "    cv_img = cv2.imread(img)\n",
    "    \n",
    "    # display the image\n",
    "    cv2.imshow('', cv_img)"
   ]
  },
  {
   "cell_type": "code",
   "execution_count": 13,
   "id": "ea7ce437",
   "metadata": {},
   "outputs": [
    {
     "data": {
      "text/plain": [
       "-1"
      ]
     },
     "execution_count": 13,
     "metadata": {},
     "output_type": "execute_result"
    }
   ],
   "source": [
    "import cv2\n",
    "import os\n",
    "\n",
    "# for face detection\n",
    "face_cascade = cv2.CascadeClassifier('haarcascade_frontalface_default.xml')\n",
    "\n",
    "# input folder containing face images\n",
    "input_folder = 'Angelina Jolie'\n",
    "\n",
    "# output folder for storing images with detected faces\n",
    "output_folder = 'Faces1'\n",
    "if not os.path.exists(output_folder):\n",
    "    os.makedirs(output_folder)\n",
    "\n",
    "# detect faces in each image\n",
    "for file_name in os.listdir(input_folder):\n",
    "    # read the image file\n",
    "    file_path = os.path.join(input_folder, file_name)\n",
    "    image = cv2.imread(file_path)\n",
    "\n",
    "    # convert the color image to grayscale\n",
    "    gray = cv2.cvtColor(image, cv2.COLOR_BGR2GRAY)\n",
    "\n",
    "    # detect faces in the image\n",
    "    faces = face_cascade.detectMultiScale(gray, scaleFactor=1.3, minNeighbors=5)\n",
    "\n",
    "    # for each face found, draw a rectangle on the original image\n",
    "    for x, y, w, h in faces:\n",
    "        color = (0, 255, 255)  # in BGR\n",
    "        stroke = 5\n",
    "        cv2.rectangle(image, (x, y), (x + w, y + h), color, stroke)\n",
    "\n",
    "    # write the image with detected faces to the output folder\n",
    "    output_file_path = os.path.join(output_folder, file_name)\n",
    "    cv2.imwrite(output_file_path, image)\n",
    "\n",
    "# cleanup\n",
    "cv2.destroyAllWindows()\n",
    "cv2.waitKey(1)\n"
   ]
  },
  {
   "cell_type": "code",
   "execution_count": null,
   "id": "77cfb64d",
   "metadata": {},
   "outputs": [],
   "source": []
  }
 ],
 "metadata": {
  "kernelspec": {
   "display_name": "Python 3 (ipykernel)",
   "language": "python",
   "name": "python3"
  },
  "language_info": {
   "codemirror_mode": {
    "name": "ipython",
    "version": 3
   },
   "file_extension": ".py",
   "mimetype": "text/x-python",
   "name": "python",
   "nbconvert_exporter": "python",
   "pygments_lexer": "ipython3",
   "version": "3.9.12"
  }
 },
 "nbformat": 4,
 "nbformat_minor": 5
}
